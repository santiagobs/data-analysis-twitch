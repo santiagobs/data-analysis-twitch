{
 "cells": [
  {
   "cell_type": "markdown",
   "metadata": {},
   "source": [
    "<h1> Data analysis with in-line SQL</h1>\n",
    "<p> In this notebook we will be using in-line SQL (sqlite3) to query data from a Twitch dataset, which can be found <a href=\"https://github.com/Codecademy/datasets/tree/master/twitch\">here</a>. Twitch is a gaming stream platform with hundreds of users.</p>\n",
    "    \n",
    "<p>Note that to use SQL in line we are using ipython-sql package. Download it with <b>pip install ipython-sql</b> or <b>conda install ipython-sql.</b> The ipython-sql library is loaded using <code>%load_ext.</code></p>\n",
    "    \n",
    "<p>For more information about <b>ipython-sql</b> refer to <a href='https://github.com/catherinedevlin/ipython-sql'>here</a>.</p>\n",
    "    \n",
    "<p>Also, credits to <a href='https://github.com/royalosyin/Practice-SQL-with-SQLite-and-Jupyter-Notebook'> this repository</a> made by <a href='https://github.com/royalosyin'> Chonghua Yin</a>.</p>\n",
    "\n"
   ]
  },
  {
   "cell_type": "code",
   "execution_count": 83,
   "metadata": {},
   "outputs": [
    {
     "name": "stdout",
     "output_type": "stream",
     "text": [
      "The sql extension is already loaded. To reload it, use:\n",
      "  %reload_ext sql\n"
     ]
    }
   ],
   "source": [
    "import pandas as pd\n",
    "import matplotlib.pyplot as plt\n",
    "import seaborn as sns\n",
    "import sqlite3\n",
    "%load_ext sql"
   ]
  },
  {
   "cell_type": "markdown",
   "metadata": {},
   "source": [
    "<h5>1. Create the database</h5>\n",
    "<p>First step is to create our database 'twitch.db3', which will be located on a subfolder called \"data\".</p>"
   ]
  },
  {
   "cell_type": "code",
   "execution_count": 84,
   "metadata": {
    "scrolled": true
   },
   "outputs": [
    {
     "data": {
      "text/plain": [
       "'Connected: @data/twitch.db3'"
      ]
     },
     "execution_count": 84,
     "metadata": {},
     "output_type": "execute_result"
    }
   ],
   "source": [
    "%sql sqlite:///data/twitch.db3"
   ]
  },
  {
   "cell_type": "markdown",
   "metadata": {},
   "source": [
    "<h5>2. Create pandas dataframes</h5>\n",
    "<p>Now we will create two dataframes from the provided dataset</p>"
   ]
  },
  {
   "cell_type": "code",
   "execution_count": 85,
   "metadata": {},
   "outputs": [],
   "source": [
    "chat = pd.read_csv('data/chat.csv')\n",
    "stream = pd.read_csv('data/stream.csv')"
   ]
  },
  {
   "cell_type": "markdown",
   "metadata": {},
   "source": [
    "<h5>3. Create sqlite tables</h5>\n",
    "<p>Create tables inside the twitch.db3 database with a bogus non-standard pseudo-SQL command <code>PERSIST</code>.</p>"
   ]
  },
  {
   "cell_type": "code",
   "execution_count": 86,
   "metadata": {},
   "outputs": [
    {
     "name": "stdout",
     "output_type": "stream",
     "text": [
      " * sqlite:///data/twitch.db3\n",
      " * sqlite:///data/twitch.db3\n"
     ]
    },
    {
     "data": {
      "text/plain": [
       "'Persisted stream'"
      ]
     },
     "execution_count": 86,
     "metadata": {},
     "output_type": "execute_result"
    }
   ],
   "source": [
    "%sql PERSIST chat\n",
    "%sql PERSIST stream"
   ]
  },
  {
   "cell_type": "markdown",
   "metadata": {},
   "source": [
    "<h5>4. First queries</h5>\n",
    "<p>Now, we will do a basic query on both tables to check everything is working.</p>"
   ]
  },
  {
   "cell_type": "code",
   "execution_count": 87,
   "metadata": {
    "scrolled": true
   },
   "outputs": [
    {
     "name": "stdout",
     "output_type": "stream",
     "text": [
      " * sqlite:///data/twitch.db3\n",
      "Done.\n"
     ]
    },
    {
     "data": {
      "text/html": [
       "<table>\n",
       "    <tr>\n",
       "        <th>index</th>\n",
       "        <th>time</th>\n",
       "        <th>device_id</th>\n",
       "        <th>login</th>\n",
       "        <th>channel</th>\n",
       "        <th>country</th>\n",
       "        <th>player</th>\n",
       "        <th>game</th>\n",
       "    </tr>\n",
       "    <tr>\n",
       "        <td>0</td>\n",
       "        <td>2015-01-01 18:45:50</td>\n",
       "        <td>70e2b95b5ac0d4c227e46966658d16b3e044996e</td>\n",
       "        <td>5c2f5c1f19a7738e16ed0be551d865e8a8fce71d</td>\n",
       "        <td>jerry</td>\n",
       "        <td>BY</td>\n",
       "        <td>None</td>\n",
       "        <td>Dota 2</td>\n",
       "    </tr>\n",
       "    <tr>\n",
       "        <td>1</td>\n",
       "        <td>2015-01-01 01:16:57</td>\n",
       "        <td>f2b9065b55fd80d6aa653ce989b489f4ec5198be</td>\n",
       "        <td>0d77740e4fb5ce77d94f9f6c8ef1f762990d0344</td>\n",
       "        <td>elaine</td>\n",
       "        <td>HK</td>\n",
       "        <td>None</td>\n",
       "        <td>Devil May Cry 4: Special Edition</td>\n",
       "    </tr>\n",
       "    <tr>\n",
       "        <td>2</td>\n",
       "        <td>2015-01-01 16:22:10</td>\n",
       "        <td>d448ba963d7e1023dd1b0a40b95d4f6611750692</td>\n",
       "        <td>77ab14c1fb815e1c369ba0cf7d4c56b4fe489997</td>\n",
       "        <td>frank</td>\n",
       "        <td>GB</td>\n",
       "        <td>iphone_t</td>\n",
       "        <td>League of Legends</td>\n",
       "    </tr>\n",
       "    <tr>\n",
       "        <td>3</td>\n",
       "        <td>2015-01-01 03:58:13</td>\n",
       "        <td>8d6823dc52b400b50aebf269bf1f03a36d19eeaa</td>\n",
       "        <td>91cb88c0743761589273fc5e800e7743ece46494</td>\n",
       "        <td>frank</td>\n",
       "        <td>US</td>\n",
       "        <td>iphone_t</td>\n",
       "        <td>League of Legends</td>\n",
       "    </tr>\n",
       "</table>"
      ],
      "text/plain": [
       "[(0, '2015-01-01 18:45:50', '70e2b95b5ac0d4c227e46966658d16b3e044996e', '5c2f5c1f19a7738e16ed0be551d865e8a8fce71d', 'jerry', 'BY', None, 'Dota 2'),\n",
       " (1, '2015-01-01 01:16:57', 'f2b9065b55fd80d6aa653ce989b489f4ec5198be', '0d77740e4fb5ce77d94f9f6c8ef1f762990d0344', 'elaine', 'HK', None, 'Devil May Cry 4: Special Edition'),\n",
       " (2, '2015-01-01 16:22:10', 'd448ba963d7e1023dd1b0a40b95d4f6611750692', '77ab14c1fb815e1c369ba0cf7d4c56b4fe489997', 'frank', 'GB', 'iphone_t', 'League of Legends'),\n",
       " (3, '2015-01-01 03:58:13', '8d6823dc52b400b50aebf269bf1f03a36d19eeaa', '91cb88c0743761589273fc5e800e7743ece46494', 'frank', 'US', 'iphone_t', 'League of Legends')]"
      ]
     },
     "execution_count": 87,
     "metadata": {},
     "output_type": "execute_result"
    }
   ],
   "source": [
    "%sql SELECT * FROM chat LIMIT 4;"
   ]
  },
  {
   "cell_type": "code",
   "execution_count": 88,
   "metadata": {
    "scrolled": true
   },
   "outputs": [
    {
     "name": "stdout",
     "output_type": "stream",
     "text": [
      " * sqlite:///data/twitch.db3\n",
      "Done.\n"
     ]
    },
    {
     "data": {
      "text/html": [
       "<table>\n",
       "    <tr>\n",
       "        <th>index</th>\n",
       "        <th>time</th>\n",
       "        <th>device_id</th>\n",
       "        <th>login</th>\n",
       "        <th>channel</th>\n",
       "        <th>country</th>\n",
       "        <th>player</th>\n",
       "        <th>game</th>\n",
       "        <th>stream_format</th>\n",
       "        <th>subscriber</th>\n",
       "    </tr>\n",
       "    <tr>\n",
       "        <td>0</td>\n",
       "        <td>2015-01-01 18:33:52</td>\n",
       "        <td>40ffc2fa6534cf760becbdbf5311e31ad069e46e</td>\n",
       "        <td>085c1eb7b587bfe654f0df7b4ba7f4fc4013636c</td>\n",
       "        <td>frank</td>\n",
       "        <td>US</td>\n",
       "        <td>iphone_t</td>\n",
       "        <td>League of Legends</td>\n",
       "        <td>None</td>\n",
       "        <td>None</td>\n",
       "    </tr>\n",
       "    <tr>\n",
       "        <td>1</td>\n",
       "        <td>2015-01-01 23:35:33</td>\n",
       "        <td>9a8cc2b7162b99c0a0f501dc9a5ec4f68586a760</td>\n",
       "        <td>5ad49a7b408ce452140b180dd6efb57a9f4d22c7</td>\n",
       "        <td>george</td>\n",
       "        <td>US</td>\n",
       "        <td>site</td>\n",
       "        <td>DayZ</td>\n",
       "        <td>chunked</td>\n",
       "        <td>0</td>\n",
       "    </tr>\n",
       "    <tr>\n",
       "        <td>2</td>\n",
       "        <td>2015-01-01 04:39:38</td>\n",
       "        <td>2f9c3f9ee1033b71a3819564243f20ef3bec0183</td>\n",
       "        <td>5b9a43e68f019185f55615d0b83019dee4b5d06f</td>\n",
       "        <td>frank</td>\n",
       "        <td>US</td>\n",
       "        <td>site</td>\n",
       "        <td>League of Legends</td>\n",
       "        <td>chunked</td>\n",
       "        <td>0</td>\n",
       "    </tr>\n",
       "    <tr>\n",
       "        <td>3</td>\n",
       "        <td>2015-01-01 11:15:30</td>\n",
       "        <td>0cda8226ba2583424c80c3c1c22c1256b080ad17</td>\n",
       "        <td>02c7797faa4d8a3ff4b0c14ee1764b6817b53d0b</td>\n",
       "        <td>estelle</td>\n",
       "        <td>CH</td>\n",
       "        <td>site</td>\n",
       "        <td>Dota 2</td>\n",
       "        <td>high</td>\n",
       "        <td>0</td>\n",
       "    </tr>\n",
       "</table>"
      ],
      "text/plain": [
       "[(0, '2015-01-01 18:33:52', '40ffc2fa6534cf760becbdbf5311e31ad069e46e', '085c1eb7b587bfe654f0df7b4ba7f4fc4013636c', 'frank', 'US', 'iphone_t', 'League of Legends', None, None),\n",
       " (1, '2015-01-01 23:35:33', '9a8cc2b7162b99c0a0f501dc9a5ec4f68586a760', '5ad49a7b408ce452140b180dd6efb57a9f4d22c7', 'george', 'US', 'site', 'DayZ', 'chunked', 0),\n",
       " (2, '2015-01-01 04:39:38', '2f9c3f9ee1033b71a3819564243f20ef3bec0183', '5b9a43e68f019185f55615d0b83019dee4b5d06f', 'frank', 'US', 'site', 'League of Legends', 'chunked', 0),\n",
       " (3, '2015-01-01 11:15:30', '0cda8226ba2583424c80c3c1c22c1256b080ad17', '02c7797faa4d8a3ff4b0c14ee1764b6817b53d0b', 'estelle', 'CH', 'site', 'Dota 2', 'high', 0)]"
      ]
     },
     "execution_count": 88,
     "metadata": {},
     "output_type": "execute_result"
    }
   ],
   "source": [
    "%sql SELECT * FROM stream LIMIT 4;"
   ]
  },
  {
   "cell_type": "markdown",
   "metadata": {},
   "source": [
    "<h5>5. More queries</h5>\n",
    "<p>Now lets find out the unique games, unique channels, most popular games and many other insights from our data.</p>\n",
    "<p>Note that in some cases we will be using <code>%%sql</code> instead of <code>%sql</code>. <code>%%sql</code> is used to execute SQL code amongst various lines, whereas <code>%sql</code> is used for a single line code</p>\n",
    "<p>The magic of using in-line SQL is that the result can be saved into a pandas dataframe with a basic syntax, using a result set's <code>.DataFrame()</code> method</p>"
   ]
  },
  {
   "cell_type": "markdown",
   "metadata": {},
   "source": [
    "<h5>Distinct games</h5>"
   ]
  },
  {
   "cell_type": "code",
   "execution_count": 137,
   "metadata": {
    "scrolled": false
   },
   "outputs": [
    {
     "name": "stdout",
     "output_type": "stream",
     "text": [
      " * sqlite:///data/twitch.db3\n",
      "Done.\n"
     ]
    },
    {
     "data": {
      "text/html": [
       "<table>\n",
       "    <tr>\n",
       "        <th>game</th>\n",
       "    </tr>\n",
       "    <tr>\n",
       "        <td>League of Legends</td>\n",
       "    </tr>\n",
       "    <tr>\n",
       "        <td>DayZ</td>\n",
       "    </tr>\n",
       "    <tr>\n",
       "        <td>Dota 2</td>\n",
       "    </tr>\n",
       "    <tr>\n",
       "        <td>Heroes of the Storm</td>\n",
       "    </tr>\n",
       "    <tr>\n",
       "        <td>Counter-Strike: Global Offensive</td>\n",
       "    </tr>\n",
       "    <tr>\n",
       "        <td>Hearthstone: Heroes of Warcraft</td>\n",
       "    </tr>\n",
       "    <tr>\n",
       "        <td>The Binding of Isaac: Rebirth</td>\n",
       "    </tr>\n",
       "    <tr>\n",
       "        <td>Agar.io</td>\n",
       "    </tr>\n",
       "    <tr>\n",
       "        <td>Gaming Talk Shows</td>\n",
       "    </tr>\n",
       "    <tr>\n",
       "        <td>None</td>\n",
       "    </tr>\n",
       "    <tr>\n",
       "        <td>Rocket League</td>\n",
       "    </tr>\n",
       "    <tr>\n",
       "        <td>World of Tanks</td>\n",
       "    </tr>\n",
       "    <tr>\n",
       "        <td>ARK: Survival Evolved</td>\n",
       "    </tr>\n",
       "    <tr>\n",
       "        <td>SpeedRunners</td>\n",
       "    </tr>\n",
       "    <tr>\n",
       "        <td>Breaking Point</td>\n",
       "    </tr>\n",
       "    <tr>\n",
       "        <td>Duck Game</td>\n",
       "    </tr>\n",
       "    <tr>\n",
       "        <td>Devil May Cry 4: Special Edition</td>\n",
       "    </tr>\n",
       "    <tr>\n",
       "        <td>Block N Load</td>\n",
       "    </tr>\n",
       "    <tr>\n",
       "        <td>Fallout 3</td>\n",
       "    </tr>\n",
       "    <tr>\n",
       "        <td>Batman: Arkham Knight</td>\n",
       "    </tr>\n",
       "    <tr>\n",
       "        <td>Reign Of Kings</td>\n",
       "    </tr>\n",
       "    <tr>\n",
       "        <td>The Witcher 3: Wild Hunt</td>\n",
       "    </tr>\n",
       "    <tr>\n",
       "        <td>The Elder Scrolls V: Skyrim</td>\n",
       "    </tr>\n",
       "    <tr>\n",
       "        <td>Super Mario Bros.</td>\n",
       "    </tr>\n",
       "    <tr>\n",
       "        <td>H1Z1</td>\n",
       "    </tr>\n",
       "    <tr>\n",
       "        <td>The Last of Us</td>\n",
       "    </tr>\n",
       "    <tr>\n",
       "        <td>Depth</td>\n",
       "    </tr>\n",
       "    <tr>\n",
       "        <td>Mortal Kombat X</td>\n",
       "    </tr>\n",
       "    <tr>\n",
       "        <td>Senran Kagura: Estival Versus</td>\n",
       "    </tr>\n",
       "    <tr>\n",
       "        <td>The Sims 4</td>\n",
       "    </tr>\n",
       "    <tr>\n",
       "        <td>You Must Build A Boat</td>\n",
       "    </tr>\n",
       "    <tr>\n",
       "        <td>Choice Chamber</td>\n",
       "    </tr>\n",
       "    <tr>\n",
       "        <td>Music</td>\n",
       "    </tr>\n",
       "    <tr>\n",
       "        <td>Risk of Rain</td>\n",
       "    </tr>\n",
       "    <tr>\n",
       "        <td>Grand Theft Auto V</td>\n",
       "    </tr>\n",
       "    <tr>\n",
       "        <td>Besiege</td>\n",
       "    </tr>\n",
       "    <tr>\n",
       "        <td>Super Mario Bros. 3</td>\n",
       "    </tr>\n",
       "    <tr>\n",
       "        <td>Hektor</td>\n",
       "    </tr>\n",
       "    <tr>\n",
       "        <td>Bridge Constructor Medieval</td>\n",
       "    </tr>\n",
       "    <tr>\n",
       "        <td>Lucius</td>\n",
       "    </tr>\n",
       "    <tr>\n",
       "        <td>Blackjack</td>\n",
       "    </tr>\n",
       "    <tr>\n",
       "        <td>Cities: Skylines</td>\n",
       "    </tr>\n",
       "</table>"
      ],
      "text/plain": [
       "[('League of Legends',),\n",
       " ('DayZ',),\n",
       " ('Dota 2',),\n",
       " ('Heroes of the Storm',),\n",
       " ('Counter-Strike: Global Offensive',),\n",
       " ('Hearthstone: Heroes of Warcraft',),\n",
       " ('The Binding of Isaac: Rebirth',),\n",
       " ('Agar.io',),\n",
       " ('Gaming Talk Shows',),\n",
       " (None,),\n",
       " ('Rocket League',),\n",
       " ('World of Tanks',),\n",
       " ('ARK: Survival Evolved',),\n",
       " ('SpeedRunners',),\n",
       " ('Breaking Point',),\n",
       " ('Duck Game',),\n",
       " ('Devil May Cry 4: Special Edition',),\n",
       " ('Block N Load',),\n",
       " ('Fallout 3',),\n",
       " ('Batman: Arkham Knight',),\n",
       " ('Reign Of Kings',),\n",
       " ('The Witcher 3: Wild Hunt',),\n",
       " ('The Elder Scrolls V: Skyrim',),\n",
       " ('Super Mario Bros.',),\n",
       " ('H1Z1',),\n",
       " ('The Last of Us',),\n",
       " ('Depth',),\n",
       " ('Mortal Kombat X',),\n",
       " ('Senran Kagura: Estival Versus',),\n",
       " ('The Sims 4',),\n",
       " ('You Must Build A Boat',),\n",
       " ('Choice Chamber',),\n",
       " ('Music',),\n",
       " ('Risk of Rain',),\n",
       " ('Grand Theft Auto V',),\n",
       " ('Besiege',),\n",
       " ('Super Mario Bros. 3',),\n",
       " ('Hektor',),\n",
       " ('Bridge Constructor Medieval',),\n",
       " ('Lucius',),\n",
       " ('Blackjack',),\n",
       " ('Cities: Skylines',)]"
      ]
     },
     "execution_count": 137,
     "metadata": {},
     "output_type": "execute_result"
    }
   ],
   "source": [
    "%%sql \n",
    "SELECT DISTINCT(game) \n",
    "FROM stream;"
   ]
  },
  {
   "cell_type": "markdown",
   "metadata": {},
   "source": [
    "<h5>Distinct channels</h5>"
   ]
  },
  {
   "cell_type": "code",
   "execution_count": 138,
   "metadata": {
    "scrolled": true
   },
   "outputs": [
    {
     "name": "stdout",
     "output_type": "stream",
     "text": [
      " * sqlite:///data/twitch.db3\n",
      "Done.\n"
     ]
    },
    {
     "data": {
      "text/html": [
       "<table>\n",
       "    <tr>\n",
       "        <th>channel</th>\n",
       "        <th>viewers</th>\n",
       "    </tr>\n",
       "    <tr>\n",
       "        <td>frank</td>\n",
       "        <td>194300</td>\n",
       "    </tr>\n",
       "    <tr>\n",
       "        <td>estelle</td>\n",
       "        <td>72484</td>\n",
       "    </tr>\n",
       "    <tr>\n",
       "        <td>kramer</td>\n",
       "        <td>66756</td>\n",
       "    </tr>\n",
       "    <tr>\n",
       "        <td>george</td>\n",
       "        <td>43235</td>\n",
       "    </tr>\n",
       "    <tr>\n",
       "        <td>newman</td>\n",
       "        <td>41846</td>\n",
       "    </tr>\n",
       "    <tr>\n",
       "        <td>morty</td>\n",
       "        <td>35353</td>\n",
       "    </tr>\n",
       "    <tr>\n",
       "        <td>elaine</td>\n",
       "        <td>28390</td>\n",
       "    </tr>\n",
       "    <tr>\n",
       "        <td>susan</td>\n",
       "        <td>15958</td>\n",
       "    </tr>\n",
       "    <tr>\n",
       "        <td>helen</td>\n",
       "        <td>14769</td>\n",
       "    </tr>\n",
       "    <tr>\n",
       "        <td>jerry</td>\n",
       "        <td>13208</td>\n",
       "    </tr>\n",
       "</table>"
      ],
      "text/plain": [
       "[('frank', 194300),\n",
       " ('estelle', 72484),\n",
       " ('kramer', 66756),\n",
       " ('george', 43235),\n",
       " ('newman', 41846),\n",
       " ('morty', 35353),\n",
       " ('elaine', 28390),\n",
       " ('susan', 15958),\n",
       " ('helen', 14769),\n",
       " ('jerry', 13208)]"
      ]
     },
     "execution_count": 138,
     "metadata": {},
     "output_type": "execute_result"
    }
   ],
   "source": [
    "%%sql\n",
    "SELECT DISTINCT(Channel), COUNT(*) AS 'viewers'\n",
    "FROM stream\n",
    "GROUP BY 1\n",
    "ORDER BY 2 DESC;"
   ]
  },
  {
   "cell_type": "code",
   "execution_count": 139,
   "metadata": {},
   "outputs": [],
   "source": [
    "result = _\n",
    "channel_views = result.DataFrame()"
   ]
  },
  {
   "cell_type": "markdown",
   "metadata": {},
   "source": [
    "<h5>Number of views per game</h5>"
   ]
  },
  {
   "cell_type": "code",
   "execution_count": 140,
   "metadata": {
    "scrolled": false
   },
   "outputs": [
    {
     "name": "stdout",
     "output_type": "stream",
     "text": [
      " * sqlite:///data/twitch.db3\n",
      "Done.\n"
     ]
    },
    {
     "data": {
      "text/html": [
       "<table>\n",
       "    <tr>\n",
       "        <th>game</th>\n",
       "        <th>viewers</th>\n",
       "    </tr>\n",
       "    <tr>\n",
       "        <td>League of Legends</td>\n",
       "        <td>193533</td>\n",
       "    </tr>\n",
       "    <tr>\n",
       "        <td>Dota 2</td>\n",
       "        <td>85608</td>\n",
       "    </tr>\n",
       "    <tr>\n",
       "        <td>Counter-Strike: Global Offensive</td>\n",
       "        <td>54438</td>\n",
       "    </tr>\n",
       "    <tr>\n",
       "        <td>DayZ</td>\n",
       "        <td>38004</td>\n",
       "    </tr>\n",
       "    <tr>\n",
       "        <td>Heroes of the Storm</td>\n",
       "        <td>35310</td>\n",
       "    </tr>\n",
       "    <tr>\n",
       "        <td>The Binding of Isaac: Rebirth</td>\n",
       "        <td>29467</td>\n",
       "    </tr>\n",
       "    <tr>\n",
       "        <td>Gaming Talk Shows</td>\n",
       "        <td>28115</td>\n",
       "    </tr>\n",
       "    <tr>\n",
       "        <td>World of Tanks</td>\n",
       "        <td>15932</td>\n",
       "    </tr>\n",
       "    <tr>\n",
       "        <td>Hearthstone: Heroes of Warcraft</td>\n",
       "        <td>14399</td>\n",
       "    </tr>\n",
       "    <tr>\n",
       "        <td>Agar.io</td>\n",
       "        <td>11480</td>\n",
       "    </tr>\n",
       "    <tr>\n",
       "        <td>Rocket League</td>\n",
       "        <td>7087</td>\n",
       "    </tr>\n",
       "    <tr>\n",
       "        <td>ARK: Survival Evolved</td>\n",
       "        <td>4158</td>\n",
       "    </tr>\n",
       "    <tr>\n",
       "        <td>SpeedRunners</td>\n",
       "        <td>3367</td>\n",
       "    </tr>\n",
       "    <tr>\n",
       "        <td>None</td>\n",
       "        <td>3124</td>\n",
       "    </tr>\n",
       "    <tr>\n",
       "        <td>Duck Game</td>\n",
       "        <td>1063</td>\n",
       "    </tr>\n",
       "    <tr>\n",
       "        <td>Fallout 3</td>\n",
       "        <td>485</td>\n",
       "    </tr>\n",
       "    <tr>\n",
       "        <td>Devil May Cry 4: Special Edition</td>\n",
       "        <td>231</td>\n",
       "    </tr>\n",
       "    <tr>\n",
       "        <td>Breaking Point</td>\n",
       "        <td>161</td>\n",
       "    </tr>\n",
       "    <tr>\n",
       "        <td>Batman: Arkham Knight</td>\n",
       "        <td>117</td>\n",
       "    </tr>\n",
       "    <tr>\n",
       "        <td>Reign Of Kings</td>\n",
       "        <td>50</td>\n",
       "    </tr>\n",
       "    <tr>\n",
       "        <td>The Witcher 3: Wild Hunt</td>\n",
       "        <td>45</td>\n",
       "    </tr>\n",
       "    <tr>\n",
       "        <td>Block N Load</td>\n",
       "        <td>34</td>\n",
       "    </tr>\n",
       "    <tr>\n",
       "        <td>Depth</td>\n",
       "        <td>27</td>\n",
       "    </tr>\n",
       "    <tr>\n",
       "        <td>Mortal Kombat X</td>\n",
       "        <td>22</td>\n",
       "    </tr>\n",
       "    <tr>\n",
       "        <td>H1Z1</td>\n",
       "        <td>7</td>\n",
       "    </tr>\n",
       "    <tr>\n",
       "        <td>Super Mario Bros.</td>\n",
       "        <td>6</td>\n",
       "    </tr>\n",
       "    <tr>\n",
       "        <td>Grand Theft Auto V</td>\n",
       "        <td>5</td>\n",
       "    </tr>\n",
       "    <tr>\n",
       "        <td>Music</td>\n",
       "        <td>4</td>\n",
       "    </tr>\n",
       "    <tr>\n",
       "        <td>The Last of Us</td>\n",
       "        <td>3</td>\n",
       "    </tr>\n",
       "    <tr>\n",
       "        <td>The Elder Scrolls V: Skyrim</td>\n",
       "        <td>3</td>\n",
       "    </tr>\n",
       "    <tr>\n",
       "        <td>Senran Kagura: Estival Versus</td>\n",
       "        <td>2</td>\n",
       "    </tr>\n",
       "    <tr>\n",
       "        <td>Risk of Rain</td>\n",
       "        <td>2</td>\n",
       "    </tr>\n",
       "    <tr>\n",
       "        <td>You Must Build A Boat</td>\n",
       "        <td>1</td>\n",
       "    </tr>\n",
       "    <tr>\n",
       "        <td>The Sims 4</td>\n",
       "        <td>1</td>\n",
       "    </tr>\n",
       "    <tr>\n",
       "        <td>Super Mario Bros. 3</td>\n",
       "        <td>1</td>\n",
       "    </tr>\n",
       "    <tr>\n",
       "        <td>Lucius</td>\n",
       "        <td>1</td>\n",
       "    </tr>\n",
       "    <tr>\n",
       "        <td>Hektor</td>\n",
       "        <td>1</td>\n",
       "    </tr>\n",
       "    <tr>\n",
       "        <td>Cities: Skylines</td>\n",
       "        <td>1</td>\n",
       "    </tr>\n",
       "    <tr>\n",
       "        <td>Choice Chamber</td>\n",
       "        <td>1</td>\n",
       "    </tr>\n",
       "    <tr>\n",
       "        <td>Bridge Constructor Medieval</td>\n",
       "        <td>1</td>\n",
       "    </tr>\n",
       "    <tr>\n",
       "        <td>Blackjack</td>\n",
       "        <td>1</td>\n",
       "    </tr>\n",
       "    <tr>\n",
       "        <td>Besiege</td>\n",
       "        <td>1</td>\n",
       "    </tr>\n",
       "</table>"
      ],
      "text/plain": [
       "[('League of Legends', 193533),\n",
       " ('Dota 2', 85608),\n",
       " ('Counter-Strike: Global Offensive', 54438),\n",
       " ('DayZ', 38004),\n",
       " ('Heroes of the Storm', 35310),\n",
       " ('The Binding of Isaac: Rebirth', 29467),\n",
       " ('Gaming Talk Shows', 28115),\n",
       " ('World of Tanks', 15932),\n",
       " ('Hearthstone: Heroes of Warcraft', 14399),\n",
       " ('Agar.io', 11480),\n",
       " ('Rocket League', 7087),\n",
       " ('ARK: Survival Evolved', 4158),\n",
       " ('SpeedRunners', 3367),\n",
       " (None, 3124),\n",
       " ('Duck Game', 1063),\n",
       " ('Fallout 3', 485),\n",
       " ('Devil May Cry 4: Special Edition', 231),\n",
       " ('Breaking Point', 161),\n",
       " ('Batman: Arkham Knight', 117),\n",
       " ('Reign Of Kings', 50),\n",
       " ('The Witcher 3: Wild Hunt', 45),\n",
       " ('Block N Load', 34),\n",
       " ('Depth', 27),\n",
       " ('Mortal Kombat X', 22),\n",
       " ('H1Z1', 7),\n",
       " ('Super Mario Bros.', 6),\n",
       " ('Grand Theft Auto V', 5),\n",
       " ('Music', 4),\n",
       " ('The Last of Us', 3),\n",
       " ('The Elder Scrolls V: Skyrim', 3),\n",
       " ('Senran Kagura: Estival Versus', 2),\n",
       " ('Risk of Rain', 2),\n",
       " ('You Must Build A Boat', 1),\n",
       " ('The Sims 4', 1),\n",
       " ('Super Mario Bros. 3', 1),\n",
       " ('Lucius', 1),\n",
       " ('Hektor', 1),\n",
       " ('Cities: Skylines', 1),\n",
       " ('Choice Chamber', 1),\n",
       " ('Bridge Constructor Medieval', 1),\n",
       " ('Blackjack', 1),\n",
       " ('Besiege', 1)]"
      ]
     },
     "execution_count": 140,
     "metadata": {},
     "output_type": "execute_result"
    }
   ],
   "source": [
    "%%sql\n",
    "WITH grouped AS (SELECT game,\n",
    "    CASE\n",
    "        WHEN count(*) > 1000 THEN game\n",
    "        ELSE 'Other'\n",
    "    END AS 'game_grouped',\n",
    "    count(*) AS 'viewers'\n",
    "FROM stream\n",
    "GROUP BY 1\n",
    "ORDER BY 3 DESC)\n",
    "\n",
    "SELECT game_grouped, viewers\n",
    "FROM grouped\n",
    "gRO\n",
    ";"
   ]
  },
  {
   "cell_type": "code",
   "execution_count": 141,
   "metadata": {
    "scrolled": true
   },
   "outputs": [],
   "source": [
    "result = _\n",
    "game_viewers = result.DataFrame()"
   ]
  },
  {
   "cell_type": "markdown",
   "metadata": {},
   "source": [
    "<h5>Countries and LOL players</h5>"
   ]
  },
  {
   "cell_type": "code",
   "execution_count": 186,
   "metadata": {
    "scrolled": true
   },
   "outputs": [
    {
     "name": "stdout",
     "output_type": "stream",
     "text": [
      " * sqlite:///data/twitch.db3\n",
      "Done.\n"
     ]
    },
    {
     "data": {
      "text/html": [
       "<table>\n",
       "    <tr>\n",
       "        <th>country_grouped</th>\n",
       "        <th>LOL_viewers</th>\n",
       "    </tr>\n",
       "    <tr>\n",
       "        <td>Other</td>\n",
       "        <td>2885</td>\n",
       "    </tr>\n",
       "    <tr>\n",
       "        <td>DK</td>\n",
       "        <td>2909</td>\n",
       "    </tr>\n",
       "    <tr>\n",
       "        <td>NL</td>\n",
       "        <td>3213</td>\n",
       "    </tr>\n",
       "    <tr>\n",
       "        <td>SE</td>\n",
       "        <td>3533</td>\n",
       "    </tr>\n",
       "    <tr>\n",
       "        <td>AU</td>\n",
       "        <td>3911</td>\n",
       "    </tr>\n",
       "    <tr>\n",
       "        <td>TR</td>\n",
       "        <td>4412</td>\n",
       "    </tr>\n",
       "    <tr>\n",
       "        <td>GB</td>\n",
       "        <td>6964</td>\n",
       "    </tr>\n",
       "    <tr>\n",
       "        <td>None</td>\n",
       "        <td>7641</td>\n",
       "    </tr>\n",
       "    <tr>\n",
       "        <td>DE</td>\n",
       "        <td>10835</td>\n",
       "    </tr>\n",
       "    <tr>\n",
       "        <td>CA</td>\n",
       "        <td>13034</td>\n",
       "    </tr>\n",
       "    <tr>\n",
       "        <td>US</td>\n",
       "        <td>85606</td>\n",
       "    </tr>\n",
       "</table>"
      ],
      "text/plain": [
       "[('Other', 2885),\n",
       " ('DK', 2909),\n",
       " ('NL', 3213),\n",
       " ('SE', 3533),\n",
       " ('AU', 3911),\n",
       " ('TR', 4412),\n",
       " ('GB', 6964),\n",
       " (None, 7641),\n",
       " ('DE', 10835),\n",
       " ('CA', 13034),\n",
       " ('US', 85606)]"
      ]
     },
     "execution_count": 186,
     "metadata": {},
     "output_type": "execute_result"
    }
   ],
   "source": [
    "%%sql\n",
    "WITH grouped AS (SELECT country,\n",
    "    CASE\n",
    "        WHEN count(*) > 2900 THEN country\n",
    "        ELSE 'Other'\n",
    "    END AS 'country_grouped',\n",
    "    count(*) AS 'LOL_viewers'\n",
    "FROM stream\n",
    "WHERE game = 'League of Legends'\n",
    "GROUP BY 1\n",
    "ORDER BY 3 DESC)\n",
    "\n",
    "SELECT country_grouped, LOL_viewers\n",
    "FROM grouped\n",
    "GROUP BY 1\n",
    "ORDER BY 2;"
   ]
  },
  {
   "cell_type": "code",
   "execution_count": 187,
   "metadata": {},
   "outputs": [],
   "source": [
    "result = _\n",
    "lol_viewers = result.DataFrame()"
   ]
  },
  {
   "cell_type": "markdown",
   "metadata": {},
   "source": [
    "<h5>Grouping games amongst different pre-defined genres</h5>"
   ]
  },
  {
   "cell_type": "code",
   "execution_count": 144,
   "metadata": {},
   "outputs": [
    {
     "name": "stdout",
     "output_type": "stream",
     "text": [
      " * sqlite:///data/twitch.db3\n",
      "Done.\n"
     ]
    },
    {
     "data": {
      "text/html": [
       "<table>\n",
       "    <tr>\n",
       "        <th>game</th>\n",
       "        <th>genre</th>\n",
       "        <th>viewers</th>\n",
       "    </tr>\n",
       "    <tr>\n",
       "        <td>League of Legends</td>\n",
       "        <td>MOBA</td>\n",
       "        <td>279141</td>\n",
       "    </tr>\n",
       "    <tr>\n",
       "        <td>Heroes of the Storm</td>\n",
       "        <td>Other</td>\n",
       "        <td>154716</td>\n",
       "    </tr>\n",
       "    <tr>\n",
       "        <td>Counter-Strike: Global Offensive</td>\n",
       "        <td>FPS</td>\n",
       "        <td>54438</td>\n",
       "    </tr>\n",
       "    <tr>\n",
       "        <td>DayZ</td>\n",
       "        <td>Survival</td>\n",
       "        <td>38004</td>\n",
       "    </tr>\n",
       "</table>"
      ],
      "text/plain": [
       "[('League of Legends', 'MOBA', 279141),\n",
       " ('Heroes of the Storm', 'Other', 154716),\n",
       " ('Counter-Strike: Global Offensive', 'FPS', 54438),\n",
       " ('DayZ', 'Survival', 38004)]"
      ]
     },
     "execution_count": 144,
     "metadata": {},
     "output_type": "execute_result"
    }
   ],
   "source": [
    "%%sql\n",
    "SELECT game,\n",
    "  CASE\n",
    "    WHEN (game ='League of Legends') OR (game = 'Dota 2') OR (game = 'Heroes of the Strom') THEN 'MOBA'\n",
    "    WHEN (game = 'Counter-Strike: Global Offensive') THEN 'FPS'\n",
    "    WHEN (game = 'DayZ') OR (game = 'Survival Evolved') THEN 'Survival'\n",
    "    ELSE 'Other'\n",
    "  END AS 'genre',\n",
    "  COUNT (*) AS 'viewers'\n",
    "FROM stream\n",
    "GROUP BY 2\n",
    "ORDER BY 3 DESC;"
   ]
  },
  {
   "cell_type": "markdown",
   "metadata": {},
   "source": [
    "<h5>Graphing the result using seaborn and matplotlib</h5>\n",
    "<ol>\n",
    "    <li>First we will save the last query in a variable called <code>result</code>, and using a underscore.</li>\n",
    "    <li>Then, using the <code>.DataFrame()</code> method, we will create a pandas Dataframe and name it games_genres.</li>\n",
    "    <li>Finally, using seaborn and matplotlib, we will plot the total number of streamers per genre using <code>estimator = sum</code>, with no error bars.</li>"
   ]
  },
  {
   "cell_type": "code",
   "execution_count": 145,
   "metadata": {
    "scrolled": true
   },
   "outputs": [
    {
     "data": {
      "image/png": "[encoded data removed]",
      "text/plain": [
       "<Figure size 432x288 with 2 Axes>"
      ]
     },
     "metadata": {
      "needs_background": "light"
     },
     "output_type": "display_data"
    }
   ],
   "source": [
    "result = _\n",
    "games_genres = result.DataFrame()\n",
    "plt.clf()\n",
    "plt.subplot(1,2,1)\n",
    "sns.barplot(data=games_genres, x='genre', y='viewers', estimator = sum, ci=None)\n",
    "plt.subplot(1,2,2)\n",
    "plt.pie(games_genres.viewers, labels=games_genres.genre, autopct='%0.1f%%')\n",
    "plt.show()"
   ]
  },
  {
   "cell_type": "markdown",
   "metadata": {},
   "source": [
    "<h5>More plots...</h5>"
   ]
  },
  {
   "cell_type": "code",
   "execution_count": 219,
   "metadata": {
    "scrolled": true
   },
   "outputs": [
    {
     "name": "stderr",
     "output_type": "stream",
     "text": [
      "/home/santiagobs/miniconda3/envs/codecademy/lib/python3.7/site-packages/ipykernel_launcher.py:3: MatplotlibDeprecationWarning: Adding an axes using the same arguments as a previous axes currently reuses the earlier instance.  In a future version, a new instance will always be created and returned.  Meanwhile, this warning can be suppressed, and the future behavior ensured, by passing a unique label to each axes instance.\n",
      "  This is separate from the ipykernel package so we can avoid doing imports until\n"
     ]
    },
    {
     "data": {
      "image/png": "[encoded data removed]",
      "text/plain": [
       "<Figure size 432x288 with 1 Axes>"
      ]
     },
     "metadata": {
      "needs_background": "light"
     },
     "output_type": "display_data"
    }
   ],
   "source": [
    "plt.clf()\n",
    "plt.bar(range(len(game_viewers.game)), game_viewers.viewers, color='blue', label='Viewers')\n",
    "ax = plt.subplot()\n",
    "plt.title('Viewers per game')\n",
    "plt.legend()\n",
    "plt.xlabel('Game')\n",
    "plt.ylabel('Viewers')\n",
    "ax.set_xticks(range(len(game_viewers.game)))\n",
    "ax.set_xticklabels(game_viewers.game, rotation=30)\n",
    "plt.show()"
   ]
  },
  {
   "cell_type": "code",
   "execution_count": 206,
   "metadata": {
    "scrolled": true
   },
   "outputs": [
    {
     "data": {
      "text/plain": [
       "<Figure size 432x288 with 0 Axes>"
      ]
     },
     "metadata": {},
     "output_type": "display_data"
    },
    {
     "data": {
      "image/png": "[encoded data removed]",
      "text/plain": [
       "<Figure size 432x504 with 1 Axes>"
      ]
     },
     "metadata": {},
     "output_type": "display_data"
    }
   ],
   "source": [
    "plt.clf()\n",
    "plt.figure(figsize=(6, 7))\n",
    "colors = ['lightskyblue', 'gold', 'lightcoral', 'gainsboro', 'royalblue', 'lightpink', 'darkseagreen', 'sienna', 'khaki', 'gold', 'violet', 'yellowgreen']\n",
    "plt.pie(lol_viewers.LOL_viewers, shadow=True, colors=colors, startangle=345, autopct='%1.0f%%', pctdistance=1.15)\n",
    "plt.title(\"League of Legends Viewers' Whereabouts\")\n",
    "plt.axis('equal')\n",
    "plt.legend(lol_viewers.country_grouped, loc=\"upper left\")\n",
    "plt.show()"
   ]
  },
  {
   "cell_type": "code",
   "execution_count": null,
   "metadata": {},
   "outputs": [],
   "source": []
  }
 ],
 "metadata": {
  "kernelspec": {
   "display_name": "Python 3",
   "language": "python",
   "name": "python3"
  },
  "language_info": {
   "codemirror_mode": {
    "name": "ipython",
    "version": 3
   },
   "file_extension": ".py",
   "mimetype": "text/x-python",
   "name": "python",
   "nbconvert_exporter": "python",
   "pygments_lexer": "ipython3",
   "version": "3.7.4"
  }
 },
 "nbformat": 4,
 "nbformat_minor": 4
}
